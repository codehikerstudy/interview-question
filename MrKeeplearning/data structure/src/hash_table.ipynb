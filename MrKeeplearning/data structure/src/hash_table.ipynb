{
 "cells": [
  {
   "cell_type": "markdown",
   "metadata": {},
   "source": [
    "## 대표적인 데이터 구조6: 해쉬 테이블 (Hash Table)\n",
    "\n",
    "### 1. 해쉬 구조\n",
    "* Hash Table: 키(Key)에 데이터(Value)를 저장하는 데이터 구조\n",
    "  - Key를 통해 바로 데이터를 받아올 수 있으므로, 속도가 획기적으로 빨라짐\n",
    "  - 파이썬 딕셔너리(Dictionary) 타입이 해쉬 테이블의 예: Key를 가지고 바로 데이터(Value)를 꺼냄\n",
    "  - 보통 배열로 미리 Hash Table 사이즈만큼 생성 후에 사용 (공간과 탐색 시간을 맞바꾸는 기법)\n",
    "  - <font color='#BF360C'>단, 파이썬에서는 해쉬를 별도 구현할 이유가 없음 - 딕셔너리 타입을 사용하면 됨</font>"
   ]
  },
  {
   "cell_type": "markdown",
   "metadata": {},
   "source": [
    "### 2. 알아둘 용어\n",
    "* 해쉬(Hash): 임의 값을 고정 길이로 변환하는 것\n",
    "* 해쉬 테이블(Hash Table): 키 값의 연산에 의해 직접 접근이 가능한 데이터 구조\n",
    "* 해싱 함수(Hashing Function): Key에 대해 산술 연산을 이용해 데이터 위치를 찾을 수 있는 함수\n",
    "* 해쉬 값(Hash Value) 또는 해쉬 주소(Hash Address): Key를 해싱 함수로 연산해서, 해쉬 값을 알아내고, 이를 기반으로 해쉬 테이블에서 해당 Key에 대한 데이터 위치를 일관성있게 찾을 수 있음\n",
    "* 슬롯(Slot): 한 개의 데이터를 저장할 수 있는 공간\n",
    "* 저장할 데이터에 대해 Key를 추출할 수 있는 별도 함수도 존재할 수 있음\n",
    "<img src=\"https://www.fun-coding.org/00_Images/hash.png\" width=400 />"
   ]
  },
  {
   "cell_type": "markdown",
   "metadata": {},
   "source": [
    "### 3. 간단한 해쉬 예"
   ]
  },
  {
   "cell_type": "markdown",
   "metadata": {},
   "source": [
    "#### 3.1. hash table 만들기\n",
    "* 참고: 파이썬 list comprehension - https://www.fun-coding.org/PL&OOP5-2.html"
   ]
  },
  {
   "cell_type": "code",
   "execution_count": 1,
   "metadata": {},
   "outputs": [
    {
     "data": {
      "text/plain": [
       "[0, 1, 2, 3, 4, 5, 6, 7, 8, 9]"
      ]
     },
     "execution_count": 1,
     "metadata": {},
     "output_type": "execute_result"
    }
   ],
   "source": [
    "hash_table = list([i for i in range(10)])\n",
    "hash_table"
   ]
  },
  {
   "cell_type": "markdown",
   "metadata": {},
   "source": [
    "#### 3.2. 이번엔 초간단 해쉬 함수를 만들어봅니다.\n",
    "- 다양한 해쉬 함수 고안 기법이 있으며, 가장 간단한 방식이 Division 법 (나누기를 통한 나머지 값을 사용하는 기법)"
   ]
  },
  {
   "cell_type": "code",
   "execution_count": 2,
   "metadata": {},
   "outputs": [],
   "source": [
    "def hash_func(key):\n",
    "    return key % 5"
   ]
  },
  {
   "cell_type": "markdown",
   "metadata": {},
   "source": [
    "#### 3.3. 해쉬 테이블에 저장해보겠습니다.\n",
    "- 데이터에 따라 필요시 key 생성 방법 정의가 필요함"
   ]
  },
  {
   "cell_type": "code",
   "execution_count": 3,
   "metadata": {},
   "outputs": [
    {
     "name": "stdout",
     "output_type": "stream",
     "text": [
      "65 68 84\n",
      "65 0\n",
      "65 65\n"
     ]
    }
   ],
   "source": [
    "data1 = 'Andy'\n",
    "data2 = 'Dave'\n",
    "data3 = 'Trump'\n",
    "data4 = 'Anthor'\n",
    "## ord(): 문자의 ASCII(아스키)코드 리턴\n",
    "print (ord(data1[0]), ord(data2[0]), ord(data3[0]))\n",
    "print (ord(data1[0]), hash_func(ord(data1[0])))\n",
    "print (ord(data1[0]), ord(data4[0]))"
   ]
  },
  {
   "cell_type": "markdown",
   "metadata": {},
   "source": [
    "- 3.3.2. 해쉬 테이블에 값 저장 예\n",
    "  - data:value 와 같이 data 와 value를 넣으면, 해당 data에 대한 key를 찾아서, 해당 key에 대응하는 해쉬주소에 value를 저장하는 예"
   ]
  },
  {
   "cell_type": "code",
   "execution_count": 4,
   "metadata": {},
   "outputs": [],
   "source": [
    "def storage_data(data, value):\n",
    "    key = ord(data[0])\n",
    "    hash_address = hash_func(key)\n",
    "    hash_table[hash_address] = value"
   ]
  },
  {
   "cell_type": "markdown",
   "metadata": {},
   "source": [
    "#### 3.4. 해쉬 테이블에서 특정 주소의 데이터를 가져오는 함수도 만들어봅니다."
   ]
  },
  {
   "cell_type": "code",
   "execution_count": 5,
   "metadata": {},
   "outputs": [],
   "source": [
    "storage_data('Andy', '01055553333')\n",
    "storage_data('Dave', '01044443333')\n",
    "storage_data('Trump', '01022223333')"
   ]
  },
  {
   "cell_type": "markdown",
   "metadata": {},
   "source": [
    "#### 3.5. 실제 데이터를 저장하고, 읽어보겠습니다."
   ]
  },
  {
   "cell_type": "code",
   "execution_count": 6,
   "metadata": {},
   "outputs": [],
   "source": [
    "def get_data(data):\n",
    "    key = ord(data[0])\n",
    "    hash_address = hash_func(key)\n",
    "    return hash_table[hash_address]"
   ]
  },
  {
   "cell_type": "code",
   "execution_count": 7,
   "metadata": {},
   "outputs": [
    {
     "data": {
      "text/plain": [
       "'01055553333'"
      ]
     },
     "execution_count": 7,
     "metadata": {},
     "output_type": "execute_result"
    }
   ],
   "source": [
    "get_data('Andy')"
   ]
  },
  {
   "cell_type": "markdown",
   "metadata": {},
   "source": [
    "### 4. 자료 구조 해쉬 테이블의 장단점과 주요 용도\n",
    "- 장점\n",
    "  - 데이터 저장/읽기 속도가 빠르다. (검색 속도가 빠르다.)\n",
    "  - 해쉬는 키에 대한 데이터가 있는지(중복) 확인이 쉬움\n",
    "- 단점 \n",
    "  - 일반적으로 저장공간이 좀더 많이 필요하다.\n",
    "  - **여러 키에 해당하는 주소가 동일할 경우 충돌을 해결하기 위한 별도 자료구조가 필요함**\n",
    "- 주요 용도\n",
    "  - 검색이 많이 필요한 경우\n",
    "  - 저장, 삭제, 읽기가 빈번한 경우\n",
    "  - 캐쉬 구현시 (중복 확인이 쉽기 때문)"
   ]
  },
  {
   "cell_type": "markdown",
   "metadata": {},
   "source": [
    "### 5. 프로그래밍 연습"
   ]
  },
  {
   "cell_type": "markdown",
   "metadata": {},
   "source": [
    "<div class=\"alert alert-block alert-warning\">\n",
    "<strong><font color=\"blue\" size=\"3em\">연습1: 리스트 변수를 활용해서 해쉬 테이블 구현해보기</font></strong><br>\n",
    "1. 해쉬 함수: key % 8<br>\n",
    "2. 해쉬 키 생성: hash(data)\n",
    "</div>"
   ]
  },
  {
   "cell_type": "code",
   "execution_count": 8,
   "metadata": {},
   "outputs": [],
   "source": [
    "hash_table = list([0 for i in range(8)])\n",
    "\n",
    "def get_key(data):\n",
    "    return hash(data)\n",
    "\n",
    "def hash_function(key):\n",
    "    return key % 8\n",
    "\n",
    "def save_data(data, value):\n",
    "    hash_address = hash_function(get_key(data))\n",
    "    hash_table[hash_address] = value\n",
    "\n",
    "def read_data(data):\n",
    "    hash_address = hash_function(get_key(data))\n",
    "    return hash_table[hash_address]"
   ]
  },
  {
   "cell_type": "code",
   "execution_count": 9,
   "metadata": {},
   "outputs": [
    {
     "name": "stdout",
     "output_type": "stream",
     "text": [
      "[0, 0, 0, 0, 0, 0, 0, 0]\n"
     ]
    },
    {
     "data": {
      "text/plain": [
       "'0102030200'"
      ]
     },
     "execution_count": 9,
     "metadata": {},
     "output_type": "execute_result"
    }
   ],
   "source": [
    "print(hash_table)\n",
    "save_data('Dave', '0102030200')\n",
    "save_data('Andy', '01033232200')\n",
    "read_data('Dave')"
   ]
  },
  {
   "cell_type": "code",
   "execution_count": 10,
   "metadata": {},
   "outputs": [
    {
     "name": "stdout",
     "output_type": "stream",
     "text": [
      "0102030200\n",
      "01033232200\n"
     ]
    }
   ],
   "source": [
    "print(read_data('Dave'))\n",
    "print(read_data('Andy'))"
   ]
  },
  {
   "cell_type": "code",
   "execution_count": 11,
   "metadata": {},
   "outputs": [
    {
     "data": {
      "text/plain": [
       "['0102030200', 0, 0, 0, 0, '01033232200', 0, 0]"
      ]
     },
     "execution_count": 11,
     "metadata": {},
     "output_type": "execute_result"
    }
   ],
   "source": [
    "hash_table"
   ]
  },
  {
   "cell_type": "markdown",
   "metadata": {},
   "source": [
    "### 6. 충돌(Collision) 해결 알고리즘 (좋은 해쉬 함수 사용하기)\n",
    "> 해쉬 테이블의 가장 큰 문제는 충돌(Collision)의 경우입니다.\n",
    "> 이 문제를 충돌(Collision) 또는 해쉬 충돌(Hash Collision)이라고 부릅니다."
   ]
  },
  {
   "cell_type": "markdown",
   "metadata": {},
   "source": [
    "#### 6.1. Chaining 기법\n",
    "- **개방 해슁 또는 Open Hashing 기법** 중 하나: 해쉬 테이블 저장공간 외의 공간을 활용하는 기법\n",
    "- 충돌이 일어나면, 링크드 리스트라는 자료 구조를 사용해서, 링크드 리스트로 데이터를 추가로 뒤에 연결시켜서 저장하는 기법"
   ]
  },
  {
   "cell_type": "markdown",
   "metadata": {},
   "source": [
    "<div class=\"alert alert-block alert-warning\">\n",
    "<strong><font color=\"blue\" size=\"3em\">연습2: 연습1의 해쉬 테이블 코드에 Chaining 기법으로 충돌해결 코드를 추가해보기</font></strong><br>\n",
    "1. 해쉬 함수: key % 8<br>\n",
    "2. 해쉬 키 생성: hash(data)\n",
    "</div>"
   ]
  },
  {
   "cell_type": "code",
   "execution_count": 12,
   "metadata": {},
   "outputs": [],
   "source": [
    "hash_table = list([0 for i in range(8)])\n",
    "\n",
    "def get_key(data):\n",
    "    return hash(data)\n",
    "\n",
    "def hash_function(key):\n",
    "    return key % 8\n",
    "\n",
    "def save_data(data, value):\n",
    "    index_key = get_key(data)\n",
    "    hash_address = hash_function(index_key)\n",
    "    # hash_table을 0으로 초기화했기 때문에, value가 들어있다면 0이 아닐 것이라고 가정\n",
    "    # 즉, 0이 아니라면 해당 위치에 데이터가 들어가 있다는 것\n",
    "    if hash_table[hash_address] != 0:\n",
    "        # 파이썬에서는 리스트에 append로 데이터를 추가하면 linkedlist와 유사한 효과를 낸다.\n",
    "        # 특정 주소에 데이터가 하나라도 들어가 있다면 그것이 리스트 타입으로 구현되어 있음.\n",
    "        # 따라서, len(hash_table[hash_address])를 통해서 해당 주소에 데이터가 하나가 들어가 있는지 2개가 들어있는지\n",
    "        # 들어간 데이터의 개수를 알아볼 수 있다.\n",
    "        for index in range(len(hash_table[hash_address])):\n",
    "            # Chaining에서 동일한 hash를 가질 경우 기존에 있던 값 뒤에 이어서\n",
    "            # linkedlist 형태로 [key, value] 쌍을 저장해나간다.\n",
    "            # 따라서, index는 몇 번째로 이어져 있는 [key, value] 쌍인지 확인하는 용도.\n",
    "            # hash_table[hash_address][index][0] == index_key 인 경우는 기존에 있던 값을 갱신하는 것.\n",
    "            if hash_table[hash_address][index][0] == index_key:\n",
    "                hash_table[hash_address][index][1] = value\n",
    "                # 의도한 작업을 마쳤다면 함수를 빠져나감\n",
    "                return\n",
    "        # hash_table[hash_address][index][0] != index_key 인 경우는 기존에 있던 값 뒤에 이어서 새로운 값을 추가하는 것.\n",
    "        hash_table[hash_address].append([index_key, value])\n",
    "    # hash_address 주소를 가지는 위치에 어떤 데이터도 저장되어 있지 않다면\n",
    "    # [index_key, value] 형태를 가지는 리스트를 추가한다.\n",
    "    else:\n",
    "        hash_table[hash_address] = [[index_key, value]]\n",
    "    \n",
    "def read_data(data):\n",
    "    index_key = get_key(data)\n",
    "    hash_address = hash_function(index_key)\n",
    "\n",
    "    # 해당 위치에 데이터가 있는 경우\n",
    "    if hash_table[hash_address] != 0:\n",
    "        for index in range(len(hash_table[hash_address])):\n",
    "            if hash_table[hash_address][index][0] == index_key:\n",
    "                return hash_table[hash_address][index][1]\n",
    "        return None\n",
    "    # 해당 위치에 데이터가 없다면 아무 것도 반환하지 않는다.\n",
    "    else:\n",
    "        return None\n"
   ]
  },
  {
   "cell_type": "code",
   "execution_count": 13,
   "metadata": {},
   "outputs": [
    {
     "name": "stdout",
     "output_type": "stream",
     "text": [
      "0\n",
      "0\n",
      "3\n"
     ]
    }
   ],
   "source": [
    "print (hash('Dave') % 8)\n",
    "print (hash('Dd') % 8)\n",
    "print (hash('Data') % 8)"
   ]
  },
  {
   "cell_type": "code",
   "execution_count": 16,
   "metadata": {},
   "outputs": [
    {
     "data": {
      "text/plain": [
       "'1201023010'"
      ]
     },
     "execution_count": 16,
     "metadata": {},
     "output_type": "execute_result"
    }
   ],
   "source": [
    "save_data('Dd', '1201023010')\n",
    "save_data('Dave', '3301023010')\n",
    "read_data('Dd')"
   ]
  },
  {
   "cell_type": "code",
   "execution_count": 17,
   "metadata": {},
   "outputs": [
    {
     "data": {
      "text/plain": [
       "[[[8145393072902308328, '1201023010'], [-8375584257681269872, '3301023010']],\n",
       " 0,\n",
       " 0,\n",
       " 0,\n",
       " 0,\n",
       " 0,\n",
       " 0,\n",
       " 0]"
      ]
     },
     "execution_count": 17,
     "metadata": {},
     "output_type": "execute_result"
    }
   ],
   "source": [
    "hash_table"
   ]
  },
  {
   "attachments": {},
   "cell_type": "markdown",
   "metadata": {},
   "source": [
    "위의 결과를 보면 `[[8145393072902308328, '1201023010'], [-8375584257681269872, '3301023010']]`과 같이 데이터를 저장하고 있는 모습을 볼 수 있는데, `8145393072902308328`은 key이고 `'1201023010'`이 대응하는 value라고 보면 된다.\n",
    "\n",
    "만약, 배열로 Chaining을 한다면 충돌이 얼마나 발생할지 예측할 수 없기 때문에 최대 충돌 횟수만큼 미리 공간을 잡아두는 것이 어렵다. 반면, linkedlist는 충돌이 일어날 때만 리스트 데이터를 생성하면 되기 때문에 가장 적절한 구현방법이 될 수 있다."
   ]
  },
  {
   "cell_type": "markdown",
   "metadata": {},
   "source": [
    "#### 6.2. Linear Probing 기법\n",
    "- **폐쇄 해슁 또는 Close Hashing 기법** 중 하나: 해쉬 테이블 저장공간 안에서 충돌 문제를 해결하는 기법\n",
    "- 충돌이 일어나면, 해당 hash address의 다음 address부터 맨 처음 나오는 빈공간에 저장하는 기법\n",
    "  - 저장공간 활용도를 높이기 위한 기법"
   ]
  },
  {
   "cell_type": "markdown",
   "metadata": {},
   "source": [
    "<div class=\"alert alert-block alert-warning\">\n",
    "<strong><font color=\"blue\" size=\"3em\">연습3: 연습1의 해쉬 테이블 코드에 Linear Probling 기법으로 충돌해결 코드를 추가해보기</font></strong><br>\n",
    "1. 해쉬 함수: key % 8<br>\n",
    "2. 해쉬 키 생성: hash(data)\n",
    "</div>"
   ]
  },
  {
   "cell_type": "code",
   "execution_count": 18,
   "metadata": {},
   "outputs": [],
   "source": [
    "hash_table = list([0 for i in range(8)])\n",
    "\n",
    "def get_key(data):\n",
    "    return hash(data)\n",
    "\n",
    "def hash_function(key):\n",
    "    return key % 8\n",
    "\n",
    "def save_data(data, value):\n",
    "    index_key = get_key(data)\n",
    "    hash_address = hash_function(index_key)\n",
    "\n",
    "    # 이미 데이터가 저장되어 있는 슬롯인 경우\n",
    "    if hash_table[hash_address] != 0:\n",
    "        # 이미 있는 데이터가 저장하려는 데이터와 같은지, 다른지 확인한다.\n",
    "        # 현재 주소를 기준으로 다음 주소에 빈공간이 있는지 확인해야 한다. \n",
    "        for index in range(hash_address, len(hash_table)):\n",
    "            # 현재 주소에 담긴 데이터가 0인 경우 = 빈 공간\n",
    "            if hash_table[index] == 0:\n",
    "                # 해당 빈 공간에 리스트 형태로 key와 value를 저장한다.\n",
    "                hash_table[index] = [index_key, value]\n",
    "                # 저장하는 작업이 끝났기 때문에 함수를 탈출\n",
    "                return\n",
    "            # 동일한 인덱스 키를 가진다면\n",
    "            # 새로 공간을 마련할 것이 아니라, 기존의 값을 업데이트해야 하는 것이다.\n",
    "            elif hash_table[index][0] == index_key:\n",
    "                hash_table[index][1] = value\n",
    "                return\n",
    "    # 해당 슬롯에는 데이터가 저장된 적이 없음.\n",
    "    # 충돌이 아닌 상황이기 때문에 해당 위치에 저장하면 된다.\n",
    "    else:\n",
    "        hash_table[hash_address] = [index_key, value]\n",
    "\n",
    "def read_data(data):\n",
    "    index_key = get_key(data)\n",
    "    hash_address = hash_function(index_key)\n",
    "    \n",
    "    if hash_table[hash_address] != 0:\n",
    "        for index in range(hash_address, len(hash_table)):\n",
    "            # 동일한 해시를 가져서 충돌이 발생한 경우 Linear Probing 기법에서는 다음 빈공간을 찾아서 저장을 한다.\n",
    "            # 그런데, hash_table[index] == 0인 경우는 for문을 돌면서 계속해서 원하는 값을 찾지 못하다가\n",
    "            # 빈 공간을 찾게 된 경우이기 때문에\n",
    "            # 이러한 경우는 읽으려는 데이터가 한 번도 테이블에 저장된 적이 없다는 것을 의미한다.\n",
    "            # 따라서, 찾으려는 데이터가 없는 상태를 None을 리턴하는 것으로 처리한다.\n",
    "            if hash_table[index] == 0:\n",
    "                return None\n",
    "            # 내가 찾으려는 데이터를 찾았다면 해당 위치의 value를 리턴한다.\n",
    "            elif hash_table[index][0] == index_key:\n",
    "                return hash_table[index][1]\n",
    "\n",
    "    # 찾으려는 데이터가 없는 상태이기 때문에 None을 리턴하는 것으로 처리한다.\n",
    "    else:\n",
    "        return None\n"
   ]
  },
  {
   "cell_type": "code",
   "execution_count": 25,
   "metadata": {},
   "outputs": [
    {
     "name": "stdout",
     "output_type": "stream",
     "text": [
      "5\n",
      "5\n"
     ]
    }
   ],
   "source": [
    "print (hash('da') % 8)\n",
    "print (hash('dc') % 8)"
   ]
  },
  {
   "cell_type": "code",
   "execution_count": 26,
   "metadata": {},
   "outputs": [
    {
     "data": {
      "text/plain": [
       "'01200123123'"
      ]
     },
     "execution_count": 26,
     "metadata": {},
     "output_type": "execute_result"
    }
   ],
   "source": [
    "save_data('dc', '01200123123')\n",
    "save_data('da', '3333333333')\n",
    "read_data('dc')"
   ]
  },
  {
   "cell_type": "markdown",
   "metadata": {},
   "source": [
    "#### 6.3. 빈번한 충돌을 개선하는 기법\n",
    "- 해쉬 함수을 재정의 및 해쉬 테이블 저장공간을 확대\n",
    "- 예:\n",
    "\n",
    "```python\n",
    "hash_table = list([None for i in range(16)])\n",
    "\n",
    "def hash_function(key):\n",
    "    return key % 16\n",
    "```"
   ]
  },
  {
   "cell_type": "markdown",
   "metadata": {},
   "source": [
    "### 참고: 해쉬 함수와 키 생성 함수\n",
    "- 파이썬의 hash() 함수는 실행할 때마다, 값이 달라질 수 있음\n",
    "- 유명한 해쉬 함수들이 있음: SHA(Secure Hash Algorithm, 안전한 해시 알고리즘)\n",
    "  - 어떤 데이터도 유일한 고정된 크기의 고정값을 리턴해주므로, 해쉬 함수로 유용하게 활용 가능"
   ]
  },
  {
   "cell_type": "markdown",
   "metadata": {},
   "source": [
    "#### SHA-1"
   ]
  },
  {
   "cell_type": "code",
   "execution_count": 27,
   "metadata": {},
   "outputs": [
    {
     "name": "stdout",
     "output_type": "stream",
     "text": [
      "a94a8fe5ccb19ba61c4c0873d391e987982fbbd3\n"
     ]
    }
   ],
   "source": [
    "import hashlib\n",
    "\n",
    "# 'test'라는 문자열을 인코딩\n",
    "# 즉, 바이트로 바꾸어주는 작업을 말함.\n",
    "# .encode()를 사용하지 않고, 직접 hash_object.update(b'test')와 같이 사용할 수도 있음.\n",
    "data = 'test'.encode()\n",
    "hash_object = hashlib.sha1()\n",
    "hash_object.update(data)\n",
    "hex_dig = hash_object.hexdigest()\n",
    "print (hex_dig)"
   ]
  },
  {
   "cell_type": "markdown",
   "metadata": {},
   "source": [
    "#### SHA-256"
   ]
  },
  {
   "cell_type": "code",
   "execution_count": 28,
   "metadata": {},
   "outputs": [
    {
     "name": "stdout",
     "output_type": "stream",
     "text": [
      "9f86d081884c7d659a2feaa0c55ad015a3bf4f1b2b0b822cd15d6c15b0f00a08\n"
     ]
    }
   ],
   "source": [
    "import hashlib\n",
    "\n",
    "data = 'test'.encode()\n",
    "hash_object = hashlib.sha256()\n",
    "hash_object.update(data)\n",
    "hex_dig = hash_object.hexdigest()\n",
    "print (hex_dig)"
   ]
  },
  {
   "cell_type": "markdown",
   "metadata": {},
   "source": [
    "<div class=\"alert alert-block alert-warning\">\n",
    "<strong><font color=\"blue\" size=\"3em\">연습4: 연습2의 Chaining 기법을 적용한 해쉬 테이블 코드에 키 생성 함수를 sha256 해쉬 알고리즘을 사용하도록 변경해보기</font></strong><br>\n",
    "1. 해쉬 함수: key % 8<br>\n",
    "2. 해쉬 키 생성: hash(data)\n",
    "</div>"
   ]
  },
  {
   "cell_type": "code",
   "execution_count": 29,
   "metadata": {},
   "outputs": [],
   "source": [
    "import hashlib\n",
    "\n",
    "hash_table = list([0 for i in range(8)])\n",
    "\n",
    "def get_key(data):\n",
    "        hash_object = hashlib.sha256()\n",
    "        hash_object.update(data.encode())\n",
    "        hex_dig = hash_object.hexdigest()\n",
    "        # hex_dig은 문자열 형태로 되어 있는데\n",
    "        # 실제로는 16진수 형태로 표현된 것이고,\n",
    "        # 해시함수를 적용하기 위해서 int형태(10진수)로 변환한다.\n",
    "        return int(hex_dig, 16)\n",
    "\n",
    "def hash_function(key):\n",
    "    return key % 8\n",
    "\n",
    "def save_data(data, value):\n",
    "    index_key = get_key(data)\n",
    "    hash_address = hash_function(index_key)\n",
    "    if hash_table[hash_address] != 0:\n",
    "        for index in range(hash_address, len(hash_table)):\n",
    "            if hash_table[index] == 0:\n",
    "                hash_table[index] = [index_key, value]\n",
    "                return\n",
    "            elif hash_table[index][0] == index_key:\n",
    "                hash_table[index][1] = value\n",
    "                return\n",
    "    else:\n",
    "        hash_table[hash_address] = [index_key, value]\n",
    "\n",
    "def read_data(data):\n",
    "    index_key = get_key(data)\n",
    "    hash_address = hash_function(index_key)\n",
    "    \n",
    "    if hash_table[hash_address] != 0:\n",
    "        for index in range(hash_address, len(hash_table)):\n",
    "            if hash_table[index] == 0:\n",
    "                return None\n",
    "            elif hash_table[index][0] == index_key:\n",
    "                return hash_table[index][1]\n",
    "    else:\n",
    "        return None\n"
   ]
  },
  {
   "cell_type": "code",
   "execution_count": 31,
   "metadata": {},
   "outputs": [
    {
     "name": "stdout",
     "output_type": "stream",
     "text": [
      "2\n",
      "2\n"
     ]
    }
   ],
   "source": [
    "print (get_key('da') % 8)\n",
    "print (get_key('dh') % 8)"
   ]
  },
  {
   "cell_type": "code",
   "execution_count": 32,
   "metadata": {},
   "outputs": [
    {
     "data": {
      "text/plain": [
       "'3333333333'"
      ]
     },
     "execution_count": 32,
     "metadata": {},
     "output_type": "execute_result"
    }
   ],
   "source": [
    "save_data('da', '01200123123')\n",
    "save_data('dh', '3333333333')\n",
    "read_data('dh')"
   ]
  },
  {
   "cell_type": "markdown",
   "metadata": {},
   "source": [
    "### 7. 시간 복잡도\n",
    "- 일반적인 경우(Collision이 없는 경우)는 O(1)\n",
    "- 최악의 경우(Collision이 모두 발생하는 경우)는 O(n)\n",
    "\n",
    "> 해쉬 테이블의 경우, 일반적인 경우를 기대하고 만들기 때문에, 시간 복잡도는 O(1) 이라고 말할 수 있음\n",
    "\n",
    "### 검색에서 해쉬 테이블의 사용 예\n",
    "- 16개의 배열에 데이터를 저장하고, 검색할 때 O(n)\n",
    "- 16개의 데이터 저장공간을 가진 위의 해쉬 테이블에 데이터를 저장하고, 검색할 때 O(1)"
   ]
  }
 ],
 "metadata": {
  "kernelspec": {
   "display_name": "Python 3",
   "language": "python",
   "name": "python3"
  },
  "language_info": {
   "codemirror_mode": {
    "name": "ipython",
    "version": 3
   },
   "file_extension": ".py",
   "mimetype": "text/x-python",
   "name": "python",
   "nbconvert_exporter": "python",
   "pygments_lexer": "ipython3",
   "version": "3.10.9 (tags/v3.10.9:1dd9be6, Dec  6 2022, 20:01:21) [MSC v.1934 64 bit (AMD64)]"
  },
  "nbTranslate": {
   "displayLangs": [
    "*"
   ],
   "hotkey": "alt-t",
   "langInMainMenu": true,
   "sourceLang": "en",
   "targetLang": "fr",
   "useGoogleTranslate": true
  },
  "vscode": {
   "interpreter": {
    "hash": "3e4e0546b66c229c71aba651ccad3e97145b417e592818c26ff7757680cb0a0c"
   }
  }
 },
 "nbformat": 4,
 "nbformat_minor": 1
}
