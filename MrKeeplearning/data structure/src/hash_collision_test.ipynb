{
 "cells": [
  {
   "attachments": {},
   "cell_type": "markdown",
   "metadata": {},
   "source": [
    "## 해시 충돌 - 개별 체이닝"
   ]
  },
  {
   "cell_type": "code",
   "execution_count": 1,
   "metadata": {},
   "outputs": [],
   "source": [
    "import hashlib\n",
    "\n",
    "SIZE = 8\n",
    "\n",
    "hash_table = list([0 for i in range(SIZE)])\n",
    "\n",
    "# Key를 해시테이블의 사이즈로 나눈 값의 나머지를 해시로 사용\n",
    "def hash_function(key):\n",
    "    # key가 정수형 타입인 경우\n",
    "    if isinstance(key, int):\n",
    "        return key % SIZE\n",
    "    # key가 정수형이 아닌 경우\n",
    "    # SHA-256 해시 알고리즘으로 정수형으로 바꿔준다.\n",
    "    return int(hashlib.sha256(str(key).encode()).hexdigest(), 16) % SIZE\n",
    "\n",
    "def save_data(key, value):\n",
    "    hash_address = hash_function(key)\n",
    "    # hash_table을 0으로 초기화했기 때문에, value가 들어있다면 0이 아닐 것이라고 가정\n",
    "    # 즉, 0이 아니라면 해당 위치에 데이터가 들어가 있다는 것\n",
    "    if hash_table[hash_address] != 0:\n",
    "        # 파이썬에서는 리스트에 append로 데이터를 추가하면 linkedlist와 유사한 효과를 낸다.\n",
    "        # 특정 주소에 데이터가 하나라도 들어가 있다면 그것이 리스트 타입으로 구현되어 있음.\n",
    "        # 따라서, len(hash_table[hash_address])를 통해서 해당 주소에 데이터가 하나가 들어가 있는지 2개가 들어있는지\n",
    "        # 들어간 데이터의 개수를 알아볼 수 있다.\n",
    "        for index in range(len(hash_table[hash_address])):\n",
    "            # Chaining에서 동일한 hash를 가질 경우 기존에 있던 값 뒤에 이어서\n",
    "            # linkedlist 형태로 [key, value] 쌍을 저장해나간다.\n",
    "            # 따라서, index는 몇 번째로 이어져 있는 [key, value] 쌍인지 확인하는 용도.\n",
    "            # hash_table[hash_address][index][0] == key 인 경우는 기존에 있던 값을 갱신하는 것.\n",
    "            if hash_table[hash_address][index][0] == key:\n",
    "                hash_table[hash_address][index][1] = value\n",
    "                # 의도한 작업을 마쳤다면 함수를 빠져나감\n",
    "                return\n",
    "        # hash_table[hash_address][index][0] != key 인 경우는 기존에 있던 값 뒤에 이어서 새로운 값을 추가하는 것.\n",
    "        hash_table[hash_address].append([key, value])\n",
    "    # hash_address 주소를 가지는 위치에 어떤 데이터도 저장되어 있지 않다면\n",
    "    # [key, value] 형태를 가지는 리스트를 추가한다.\n",
    "    else:\n",
    "        hash_table[hash_address] = [[key, value]]\n",
    "    \n",
    "def read_data(key):\n",
    "    hash_address = hash_function(key)\n",
    "\n",
    "    # 해당 위치에 데이터가 있는 경우\n",
    "    if hash_table[hash_address] != 0:\n",
    "        for index in range(len(hash_table[hash_address])):\n",
    "            if hash_table[hash_address][index][0] == key:\n",
    "                return hash_table[hash_address][index][1]\n",
    "        return None\n",
    "    # 해당 위치에 데이터가 없다면 아무 것도 반환하지 않는다.\n",
    "    else:\n",
    "        return None\n"
   ]
  },
  {
   "cell_type": "code",
   "execution_count": 3,
   "metadata": {},
   "outputs": [
    {
     "data": {
      "text/plain": [
       "'3333333333'"
      ]
     },
     "execution_count": 3,
     "metadata": {},
     "output_type": "execute_result"
    }
   ],
   "source": [
    "save_data('da', '01200123123')\n",
    "save_data('dh', '3333333333')\n",
    "read_data('dh')"
   ]
  },
  {
   "cell_type": "code",
   "execution_count": 4,
   "metadata": {},
   "outputs": [
    {
     "data": {
      "text/plain": [
       "[0, 0, [['da', '01200123123'], ['dh', '3333333333']], 0, 0, 0, 0, 0]"
      ]
     },
     "execution_count": 4,
     "metadata": {},
     "output_type": "execute_result"
    }
   ],
   "source": [
    "hash_table"
   ]
  },
  {
   "cell_type": "code",
   "execution_count": null,
   "metadata": {},
   "outputs": [],
   "source": []
  }
 ],
 "metadata": {
  "kernelspec": {
   "display_name": "Python 3",
   "language": "python",
   "name": "python3"
  },
  "language_info": {
   "codemirror_mode": {
    "name": "ipython",
    "version": 3
   },
   "file_extension": ".py",
   "mimetype": "text/x-python",
   "name": "python",
   "nbconvert_exporter": "python",
   "pygments_lexer": "ipython3",
   "version": "3.10.9"
  },
  "orig_nbformat": 4,
  "vscode": {
   "interpreter": {
    "hash": "3e4e0546b66c229c71aba651ccad3e97145b417e592818c26ff7757680cb0a0c"
   }
  }
 },
 "nbformat": 4,
 "nbformat_minor": 2
}
